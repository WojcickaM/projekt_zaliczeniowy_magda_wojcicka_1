{
  "metadata": {
    "kernelspec": {
      "name": "python",
      "display_name": "Python (Pyodide)",
      "language": "python"
    },
    "language_info": {
      "codemirror_mode": {
        "name": "python",
        "version": 3
      },
      "file_extension": ".py",
      "mimetype": "text/x-python",
      "name": "python",
      "nbconvert_exporter": "python",
      "pygments_lexer": "ipython3",
      "version": "3.8"
    },
    "colab": {
      "provenance": []
    }
  },
  "nbformat_minor": 0,
  "nbformat": 4,
  "cells": [
    {
      "cell_type": "code",
      "source": [
        "import pandas as pd\n",
        "df = pd.read_csv(\"dane6.csv\")"
      ],
      "metadata": {
        "trusted": true,
        "id": "ygIIn0rfncIZ"
      },
      "outputs": [],
      "execution_count": null
    },
    {
      "cell_type": "code",
      "source": [
        "#Zadanie 1.1\n",
        "mapa_dni = {\n",
        "    'Mon': 'Poniedziałek',\n",
        "    'Tue': 'Wtorek',\n",
        "    'Wed': 'Środa',\n",
        "    'Thu': 'Czwartek',\n",
        "    'Fri': 'Piątek',\n",
        "    'Sat': 'Sobota',\n",
        "    'Sun': 'Niedziela'\n",
        "}\n",
        "df['created_at_polskie'] = df['created_at'].str.replace(r'\\b(?:Mon|Tue|Wed|Thu|Fri|Sat|Sun)\\b', lambda x: mapa_dni[x.group()], regex=True)\n",
        "print(df[\"created_at_polskie\"])"
      ],
      "metadata": {
        "trusted": true,
        "colab": {
          "base_uri": "https://localhost:8080/"
        },
        "id": "m6fq61b1ncIl",
        "outputId": "6e0982a8-ce69-4dc7-d304-da4e48c307a0"
      },
      "outputs": [
        {
          "output_type": "stream",
          "name": "stdout",
          "text": [
            "0       Czwartek Aug 05 13:43:09 +0000 2021\n",
            "1       Czwartek Aug 05 12:12:01 +0000 2021\n",
            "2       Czwartek Aug 05 13:51:38 +0000 2021\n",
            "3       Czwartek Aug 05 16:27:30 +0000 2021\n",
            "4       Czwartek Aug 05 11:21:15 +0000 2021\n",
            "                       ...                 \n",
            "1391       Środa Jul 28 18:07:34 +0000 2021\n",
            "1392       Środa Jul 28 20:51:14 +0000 2021\n",
            "1393       Środa Jul 28 18:17:04 +0000 2021\n",
            "1394       Środa Jul 28 19:41:36 +0000 2021\n",
            "1395       Środa Jul 28 17:29:33 +0000 2021\n",
            "Name: created_at_polskie, Length: 1396, dtype: object\n"
          ]
        }
      ],
      "execution_count": null
    },
    {
      "cell_type": "code",
      "source": [
        "# Zadanie 1.2\n",
        "mapa_miesiecy = {\n",
        "    'Jan': '01',\n",
        "    'Feb': '02',\n",
        "    'Mar': '03',\n",
        "    'Apr': '04',\n",
        "    'May': '05',\n",
        "    'Jun': '06',\n",
        "    'Jul': '07',\n",
        "    'Aug': '08',\n",
        "    'Sep': '09',\n",
        "    'Oct': '10',\n",
        "    'Nov': '11',\n",
        "    'Dec': '12'\n",
        "}\n",
        "df['created_at_polskie'] = df['created_at_polskie'].str.replace(r'\\b(?:Jan|Feb|Mar|Apr|May|Jun|Jul|Aug|Sep|Oct|Nov|Dec)\\b', lambda x: mapa_miesiecy[x.group()], regex=True)\n",
        "\n",
        "print(df[\"created_at_polskie\"])"
      ],
      "metadata": {
        "trusted": true,
        "colab": {
          "base_uri": "https://localhost:8080/"
        },
        "id": "zrsuOJx2ncIv",
        "outputId": "381cc02c-a27a-4849-b0b5-48bcbdfc8554"
      },
      "outputs": [
        {
          "output_type": "stream",
          "name": "stdout",
          "text": [
            "0       Czwartek 08 05 13:43:09 +0000 2021\n",
            "1       Czwartek 08 05 12:12:01 +0000 2021\n",
            "2       Czwartek 08 05 13:51:38 +0000 2021\n",
            "3       Czwartek 08 05 16:27:30 +0000 2021\n",
            "4       Czwartek 08 05 11:21:15 +0000 2021\n",
            "                       ...                \n",
            "1391       Środa 07 28 18:07:34 +0000 2021\n",
            "1392       Środa 07 28 20:51:14 +0000 2021\n",
            "1393       Środa 07 28 18:17:04 +0000 2021\n",
            "1394       Środa 07 28 19:41:36 +0000 2021\n",
            "1395       Środa 07 28 17:29:33 +0000 2021\n",
            "Name: created_at_polskie, Length: 1396, dtype: object\n"
          ]
        }
      ],
      "execution_count": null
    },
    {
      "cell_type": "code",
      "source": [
        "# Zadanie 1.3\n",
        "tweet_urls_list = df['tweet_url'].to_list()\n",
        "print(tweet_urls_list[:3])# tylko 3 pierwsze\n",
        "#bo jest ich aż...\n",
        "print(len(tweet_urls_list))"
      ],
      "metadata": {
        "trusted": true,
        "colab": {
          "base_uri": "https://localhost:8080/"
        },
        "id": "nNHU_XtlncI2",
        "outputId": "ff40a3d5-18a1-4850-f857-9f00f2bfafe6"
      },
      "outputs": [
        {
          "output_type": "stream",
          "name": "stdout",
          "text": [
            "['https://twitter.com/roboter15/status/1423278406167187458', 'https://twitter.com/west_wiki/status/1423255469389406209', 'https://twitter.com/KKazmierczakK/status/1423280539981602821']\n",
            "1396\n"
          ]
        }
      ],
      "execution_count": null
    },
    {
      "cell_type": "code",
      "source": [
        "# Zadanie 1.4\n",
        "urls = df['urls'].dropna().tolist()\n",
        "print(urls[:3])# tylko 3 pierwsze\n",
        "#bo jest ich aż...\n",
        "print(len(urls))"
      ],
      "metadata": {
        "trusted": true,
        "colab": {
          "base_uri": "https://localhost:8080/"
        },
        "id": "tbFFEZGKncI5",
        "outputId": "bfcb22c9-0d5b-48ac-cb60-38029bdfa02e"
      },
      "outputs": [
        {
          "output_type": "stream",
          "name": "stdout",
          "text": [
            "['https://ift.tt/3fxx9kq', 'https://twitter.com/TomaszGolonko/status/1423199797364903945', 'https://help.twitch.tv/s/article/local-sub-price-countries?language=en_US#latam']\n",
            "354\n"
          ]
        }
      ],
      "execution_count": null
    },
    {
      "cell_type": "code",
      "source": [
        "# Zadanie 1.5\n",
        "media = df['media'].dropna().tolist()\n",
        "print(media[:3])# tylko 3 pierwsze\n",
        "#bo jest ich aż...\n",
        "print(len(media))"
      ],
      "metadata": {
        "trusted": true,
        "colab": {
          "base_uri": "https://localhost:8080/"
        },
        "id": "7wCw4iUUncI6",
        "outputId": "a0205ef6-4afa-4779-fce4-3a690d30b27a"
      },
      "outputs": [
        {
          "output_type": "stream",
          "name": "stdout",
          "text": [
            "['https://twitter.com/00Linde/status/1423313203975659522/photo/1', 'https://twitter.com/VKouprich/status/1423211101500624900/photo/1', 'https://twitter.com/TOMASZBURZYNSKI/status/1423196284454936577/photo/1']\n",
            "81\n"
          ]
        }
      ],
      "execution_count": null
    },
    {
      "cell_type": "code",
      "source": [
        "# Zadanie 1.6\n",
        "!pip install stop-words\n",
        "from stop_words import get_stop_words\n",
        "stop_words = get_stop_words('polish')\n",
        "\n",
        "df['text_without_stopwords'] = df['text'].apply(lambda x: ' '.join([word for word in x.split() if word.lower() not in stop_words]))\n",
        "print(df['text'][0])\n",
        "print(\"-------------------\")\n",
        "print(df['text_without_stopwords'][0])"
      ],
      "metadata": {
        "trusted": true,
        "colab": {
          "base_uri": "https://localhost:8080/"
        },
        "id": "qYHtAUMxncI8",
        "outputId": "c0e6b445-4355-497f-9db7-7424cd0a6bd4"
      },
      "outputs": [
        {
          "output_type": "stream",
          "name": "stdout",
          "text": [
            "Requirement already satisfied: stop-words in /usr/local/lib/python3.10/dist-packages (2018.7.23)\n",
            "@tomo9000p @SilverMarketFan @ESPI_Operator @sylkarp @averageguy62 Rozmawialem ostatnio z kierowca robiacym w  kurierce miedzy hubami. Ukraina potrafila przyjsc z kupionym prawkiem c+e.\n",
            "-------------------\n",
            "@tomo9000p @SilverMarketFan @ESPI_Operator @sylkarp @averageguy62 Rozmawialem ostatnio z kierowca robiacym w kurierce miedzy hubami. Ukraina potrafila przyjsc z kupionym prawkiem c+e.\n"
          ]
        }
      ],
      "execution_count": null
    },
    {
      "cell_type": "code",
      "source": [
        "# Zadanie 2.1\n",
        "top5_tweets = df.sort_values(by='favorite_count', ascending=False).head(5)\n",
        "print(top5_tweets.loc[:, ['favorite_count', 'text']])"
      ],
      "metadata": {
        "trusted": true,
        "colab": {
          "base_uri": "https://localhost:8080/"
        },
        "id": "21dBBug1ncI9",
        "outputId": "a96847bd-3e87-46c6-e9e2-44e04c6d9a3f"
      },
      "outputs": [
        {
          "output_type": "stream",
          "name": "stdout",
          "text": [
            "      favorite_count                                               text\n",
            "160              705  A więc jeśli się nie zaszczepimy, to wszyscy u...\n",
            "137              383  Wielki sukces polskiego sportu: p.Jan-Krzyszto...\n",
            "316              291  A mnie ciekawi @Straz_Graniczna jak można niel...\n",
            "954              290  @kroplewina Ukraina robisz to dobrze. Zajebist...\n",
            "1296             201  Niemcy najpierw wrzuciły Białoruś w ręce Putin...\n"
          ]
        }
      ],
      "execution_count": null
    },
    {
      "cell_type": "code",
      "source": [
        "# Zadanie 2.2\n",
        "top5_retweets  = df.sort_values(by='retweet_count', ascending=False).head(5)\n",
        "print(top5_retweets.loc[:, ['retweet_count', 'text']])"
      ],
      "metadata": {
        "trusted": true,
        "colab": {
          "base_uri": "https://localhost:8080/"
        },
        "id": "7gYCrN2RncI-",
        "outputId": "f1df42b1-a3da-404a-fd1a-db88f84c8b8f"
      },
      "outputs": [
        {
          "output_type": "stream",
          "name": "stdout",
          "text": [
            "     retweet_count                                               text\n",
            "124            129  A więc jeśli się nie zaszczepimy, to wszyscy u...\n",
            "59             129  A więc jeśli się nie zaszczepimy, to wszyscy u...\n",
            "70             129  A więc jeśli się nie zaszczepimy, to wszyscy u...\n",
            "69             129  A więc jeśli się nie zaszczepimy, to wszyscy u...\n",
            "68             129  A więc jeśli się nie zaszczepimy, to wszyscy u...\n"
          ]
        }
      ],
      "execution_count": null
    },
    {
      "cell_type": "code",
      "source": [
        "# Zadanie 2.3\n",
        "tweets_non_sensitive = df[df['possibly_sensitive'] != True]\n",
        "print(tweets_non_sensitive.loc[:, ['possibly_sensitive', 'text']])"
      ],
      "metadata": {
        "trusted": true,
        "colab": {
          "base_uri": "https://localhost:8080/"
        },
        "id": "pVIWKcCsncJC",
        "outputId": "c9aa0340-46e9-40bf-933b-29fb2a2d1703"
      },
      "outputs": [
        {
          "output_type": "stream",
          "name": "stdout",
          "text": [
            "     possibly_sensitive                                               text\n",
            "0                   NaN  @tomo9000p @SilverMarketFan @ESPI_Operator @sy...\n",
            "1                   NaN  A więc jeśli się nie zaszczepimy, to wszyscy u...\n",
            "2                   NaN  @lukasz_nd To są spekulacje wbrew faktom. Bo ź...\n",
            "3                   NaN  A więc jeśli się nie zaszczepimy, to wszyscy u...\n",
            "4                   NaN  A więc jeśli się nie zaszczepimy, to wszyscy u...\n",
            "...                 ...                                                ...\n",
            "1391                NaN  🙏👉🤲Pamięć #Polaków, #Ukraińców i #Czechów, któ...\n",
            "1392              False  Ukraina chce konsultacji w sprawie Nord Stream...\n",
            "1393                NaN  Kompozytor Krzesimir Dębski o zakłamaniu na Uk...\n",
            "1394                NaN  #PilnujmyPolski | @Macierewicz_A: Moskwa jest ...\n",
            "1395              False  „Ukraina nie zaprzestanie walki z paktem ws #N...\n",
            "\n",
            "[1392 rows x 2 columns]\n"
          ]
        }
      ],
      "execution_count": null
    },
    {
      "cell_type": "code",
      "source": [
        "# Zadanie 2.4\n",
        "earliest_user_created_at = df['user_created_at'].min()\n",
        "earliest_user_tweets = df[df['user_created_at'] == earliest_user_created_at]\n",
        "print(earliest_user_tweets.loc[:, ['user_created_at', 'text']])"
      ],
      "metadata": {
        "trusted": true,
        "colab": {
          "base_uri": "https://localhost:8080/"
        },
        "id": "RcZqxJAFncJE",
        "outputId": "e9038e0a-1078-4619-8390-59d0f6ab4874"
      },
      "outputs": [
        {
          "output_type": "stream",
          "name": "stdout",
          "text": [
            "                    user_created_at  \\\n",
            "183  Fri Apr 02 12:05:18 +0000 2021   \n",
            "\n",
            "                                                  text  \n",
            "183  A mnie ciekawi @Straz_Graniczna jak można niel...  \n"
          ]
        }
      ],
      "execution_count": null
    },
    {
      "cell_type": "code",
      "source": [
        "# Zadanie 2.5\n",
        "user_with_most_followers = df.loc[df['user_followers_count'].idxmax()][\"user_id\"]\n",
        "tweets_of_user_with_most_followers = df[df['user_id'] == user_with_most_followers]\n",
        "print(tweets_of_user_with_most_followers.loc[:, ['user_followers_count','user_screen_name', 'text']])"
      ],
      "metadata": {
        "trusted": true,
        "colab": {
          "base_uri": "https://localhost:8080/"
        },
        "id": "pXSykA2rncJF",
        "outputId": "fee1c75f-7396-4df0-ce2b-cc7d415f1eeb"
      },
      "outputs": [
        {
          "output_type": "stream",
          "name": "stdout",
          "text": [
            "      user_followers_count user_screen_name  \\\n",
            "482                1913279            tvn24   \n",
            "717                1913279            tvn24   \n",
            "1189               1913279            tvn24   \n",
            "\n",
            "                                                   text  \n",
            "482   Ukraińska policja bada przyczyny śmierci biało...  \n",
            "717   #PILNE | W parku w Kijowie znaleziono ciało bi...  \n",
            "1189  Nowe ustalenia śledczych po katastrofie na zac...  \n"
          ]
        }
      ],
      "execution_count": null
    },
    {
      "cell_type": "code",
      "source": [
        "# Zadanie 2.6\n",
        "verified_tweets = df[df['user_verified'] == True]\n",
        "verified_users = verified_tweets['user_screen_name'].to_list()\n",
        "print(verified_users[:3])# tylko 3 pierwsze\n",
        "#bo jest ich aż...\n",
        "print(len(verified_users))"
      ],
      "metadata": {
        "trusted": true,
        "colab": {
          "base_uri": "https://localhost:8080/"
        },
        "id": "W1nQq-LencJG",
        "outputId": "332fc4d9-680d-4134-c0aa-e9a3939d7b86"
      },
      "outputs": [
        {
          "output_type": "stream",
          "name": "stdout",
          "text": [
            "['UkrinformP', 'JkmMikke', 'forsalpl']\n",
            "50\n"
          ]
        }
      ],
      "execution_count": null
    },
    {
      "cell_type": "code",
      "source": [
        "# Zadanie 2.7\n",
        "wystapienia = df['created_at'].str[:3].map(mapa_dni).value_counts()\n",
        "wystapienia_slownik = wystapienia.to_dict()\n",
        "print(wystapienia_slownik)"
      ],
      "metadata": {
        "trusted": true,
        "colab": {
          "base_uri": "https://localhost:8080/"
        },
        "id": "BVUzdUsbncJJ",
        "outputId": "cd79e29d-405b-4f9b-8cdb-9667e4038fc3"
      },
      "outputs": [
        {
          "output_type": "stream",
          "name": "stdout",
          "text": [
            "{'Czwartek': 376, 'Środa': 302, 'Wtorek': 288, 'Piątek': 136, 'Sobota': 114, 'Poniedziałek': 92, 'Niedziela': 88}\n"
          ]
        }
      ],
      "execution_count": null
    },
    {
      "cell_type": "code",
      "source": [
        "# Zadanie 3 - przygotowanie metody i modelu\n",
        "!pip install spacy\n",
        "!python -m spacy download pl_core_news_sm\n",
        "import spacy\n",
        "nlp = spacy.load(\"pl_core_news_sm\")\n"
      ],
      "metadata": {
        "trusted": true,
        "colab": {
          "base_uri": "https://localhost:8080/"
        },
        "id": "Mx1j7TQtncJM",
        "outputId": "865acc92-c2ba-4366-996d-014692ee7f0c"
      },
      "outputs": [
        {
          "output_type": "stream",
          "name": "stdout",
          "text": [
            "Requirement already satisfied: spacy in /usr/local/lib/python3.10/dist-packages (3.7.2)\n",
            "Requirement already satisfied: spacy-legacy<3.1.0,>=3.0.11 in /usr/local/lib/python3.10/dist-packages (from spacy) (3.0.12)\n",
            "Requirement already satisfied: spacy-loggers<2.0.0,>=1.0.0 in /usr/local/lib/python3.10/dist-packages (from spacy) (1.0.5)\n",
            "Requirement already satisfied: murmurhash<1.1.0,>=0.28.0 in /usr/local/lib/python3.10/dist-packages (from spacy) (1.0.10)\n",
            "Requirement already satisfied: cymem<2.1.0,>=2.0.2 in /usr/local/lib/python3.10/dist-packages (from spacy) (2.0.8)\n",
            "Requirement already satisfied: preshed<3.1.0,>=3.0.2 in /usr/local/lib/python3.10/dist-packages (from spacy) (3.0.9)\n",
            "Requirement already satisfied: thinc<8.3.0,>=8.1.8 in /usr/local/lib/python3.10/dist-packages (from spacy) (8.2.3)\n",
            "Requirement already satisfied: wasabi<1.2.0,>=0.9.1 in /usr/local/lib/python3.10/dist-packages (from spacy) (1.1.2)\n",
            "Requirement already satisfied: srsly<3.0.0,>=2.4.3 in /usr/local/lib/python3.10/dist-packages (from spacy) (2.4.8)\n",
            "Requirement already satisfied: catalogue<2.1.0,>=2.0.6 in /usr/local/lib/python3.10/dist-packages (from spacy) (2.0.10)\n",
            "Requirement already satisfied: weasel<0.4.0,>=0.1.0 in /usr/local/lib/python3.10/dist-packages (from spacy) (0.3.4)\n",
            "Requirement already satisfied: typer<0.10.0,>=0.3.0 in /usr/local/lib/python3.10/dist-packages (from spacy) (0.9.0)\n",
            "Requirement already satisfied: smart-open<7.0.0,>=5.2.1 in /usr/local/lib/python3.10/dist-packages (from spacy) (6.4.0)\n",
            "Requirement already satisfied: tqdm<5.0.0,>=4.38.0 in /usr/local/lib/python3.10/dist-packages (from spacy) (4.66.1)\n",
            "Requirement already satisfied: requests<3.0.0,>=2.13.0 in /usr/local/lib/python3.10/dist-packages (from spacy) (2.31.0)\n",
            "Requirement already satisfied: pydantic!=1.8,!=1.8.1,<3.0.0,>=1.7.4 in /usr/local/lib/python3.10/dist-packages (from spacy) (2.6.1)\n",
            "Requirement already satisfied: jinja2 in /usr/local/lib/python3.10/dist-packages (from spacy) (3.1.3)\n",
            "Requirement already satisfied: setuptools in /usr/local/lib/python3.10/dist-packages (from spacy) (67.7.2)\n",
            "Requirement already satisfied: packaging>=20.0 in /usr/local/lib/python3.10/dist-packages (from spacy) (23.2)\n",
            "Requirement already satisfied: langcodes<4.0.0,>=3.2.0 in /usr/local/lib/python3.10/dist-packages (from spacy) (3.3.0)\n",
            "Requirement already satisfied: numpy>=1.19.0 in /usr/local/lib/python3.10/dist-packages (from spacy) (1.25.2)\n",
            "Requirement already satisfied: annotated-types>=0.4.0 in /usr/local/lib/python3.10/dist-packages (from pydantic!=1.8,!=1.8.1,<3.0.0,>=1.7.4->spacy) (0.6.0)\n",
            "Requirement already satisfied: pydantic-core==2.16.2 in /usr/local/lib/python3.10/dist-packages (from pydantic!=1.8,!=1.8.1,<3.0.0,>=1.7.4->spacy) (2.16.2)\n",
            "Requirement already satisfied: typing-extensions>=4.6.1 in /usr/local/lib/python3.10/dist-packages (from pydantic!=1.8,!=1.8.1,<3.0.0,>=1.7.4->spacy) (4.9.0)\n",
            "Requirement already satisfied: charset-normalizer<4,>=2 in /usr/local/lib/python3.10/dist-packages (from requests<3.0.0,>=2.13.0->spacy) (3.3.2)\n",
            "Requirement already satisfied: idna<4,>=2.5 in /usr/local/lib/python3.10/dist-packages (from requests<3.0.0,>=2.13.0->spacy) (3.6)\n",
            "Requirement already satisfied: urllib3<3,>=1.21.1 in /usr/local/lib/python3.10/dist-packages (from requests<3.0.0,>=2.13.0->spacy) (2.0.7)\n",
            "Requirement already satisfied: certifi>=2017.4.17 in /usr/local/lib/python3.10/dist-packages (from requests<3.0.0,>=2.13.0->spacy) (2024.2.2)\n",
            "Requirement already satisfied: blis<0.8.0,>=0.7.8 in /usr/local/lib/python3.10/dist-packages (from thinc<8.3.0,>=8.1.8->spacy) (0.7.11)\n",
            "Requirement already satisfied: confection<1.0.0,>=0.0.1 in /usr/local/lib/python3.10/dist-packages (from thinc<8.3.0,>=8.1.8->spacy) (0.1.4)\n",
            "Requirement already satisfied: click<9.0.0,>=7.1.1 in /usr/local/lib/python3.10/dist-packages (from typer<0.10.0,>=0.3.0->spacy) (8.1.7)\n",
            "Requirement already satisfied: cloudpathlib<0.17.0,>=0.7.0 in /usr/local/lib/python3.10/dist-packages (from weasel<0.4.0,>=0.1.0->spacy) (0.16.0)\n",
            "Requirement already satisfied: MarkupSafe>=2.0 in /usr/local/lib/python3.10/dist-packages (from jinja2->spacy) (2.1.5)\n",
            "Collecting pl-core-news-sm==3.7.0\n",
            "  Downloading https://github.com/explosion/spacy-models/releases/download/pl_core_news_sm-3.7.0/pl_core_news_sm-3.7.0-py3-none-any.whl (20.2 MB)\n",
            "\u001b[2K     \u001b[90m━━━━━━━━━━━━━━━━━━━━━━━━━━━━━━━━━━━━━━━━\u001b[0m \u001b[32m20.2/20.2 MB\u001b[0m \u001b[31m38.7 MB/s\u001b[0m eta \u001b[36m0:00:00\u001b[0m\n",
            "\u001b[?25hRequirement already satisfied: spacy<3.8.0,>=3.7.0 in /usr/local/lib/python3.10/dist-packages (from pl-core-news-sm==3.7.0) (3.7.2)\n",
            "Requirement already satisfied: spacy-legacy<3.1.0,>=3.0.11 in /usr/local/lib/python3.10/dist-packages (from spacy<3.8.0,>=3.7.0->pl-core-news-sm==3.7.0) (3.0.12)\n",
            "Requirement already satisfied: spacy-loggers<2.0.0,>=1.0.0 in /usr/local/lib/python3.10/dist-packages (from spacy<3.8.0,>=3.7.0->pl-core-news-sm==3.7.0) (1.0.5)\n",
            "Requirement already satisfied: murmurhash<1.1.0,>=0.28.0 in /usr/local/lib/python3.10/dist-packages (from spacy<3.8.0,>=3.7.0->pl-core-news-sm==3.7.0) (1.0.10)\n",
            "Requirement already satisfied: cymem<2.1.0,>=2.0.2 in /usr/local/lib/python3.10/dist-packages (from spacy<3.8.0,>=3.7.0->pl-core-news-sm==3.7.0) (2.0.8)\n",
            "Requirement already satisfied: preshed<3.1.0,>=3.0.2 in /usr/local/lib/python3.10/dist-packages (from spacy<3.8.0,>=3.7.0->pl-core-news-sm==3.7.0) (3.0.9)\n",
            "Requirement already satisfied: thinc<8.3.0,>=8.1.8 in /usr/local/lib/python3.10/dist-packages (from spacy<3.8.0,>=3.7.0->pl-core-news-sm==3.7.0) (8.2.3)\n",
            "Requirement already satisfied: wasabi<1.2.0,>=0.9.1 in /usr/local/lib/python3.10/dist-packages (from spacy<3.8.0,>=3.7.0->pl-core-news-sm==3.7.0) (1.1.2)\n",
            "Requirement already satisfied: srsly<3.0.0,>=2.4.3 in /usr/local/lib/python3.10/dist-packages (from spacy<3.8.0,>=3.7.0->pl-core-news-sm==3.7.0) (2.4.8)\n",
            "Requirement already satisfied: catalogue<2.1.0,>=2.0.6 in /usr/local/lib/python3.10/dist-packages (from spacy<3.8.0,>=3.7.0->pl-core-news-sm==3.7.0) (2.0.10)\n",
            "Requirement already satisfied: weasel<0.4.0,>=0.1.0 in /usr/local/lib/python3.10/dist-packages (from spacy<3.8.0,>=3.7.0->pl-core-news-sm==3.7.0) (0.3.4)\n",
            "Requirement already satisfied: typer<0.10.0,>=0.3.0 in /usr/local/lib/python3.10/dist-packages (from spacy<3.8.0,>=3.7.0->pl-core-news-sm==3.7.0) (0.9.0)\n",
            "Requirement already satisfied: smart-open<7.0.0,>=5.2.1 in /usr/local/lib/python3.10/dist-packages (from spacy<3.8.0,>=3.7.0->pl-core-news-sm==3.7.0) (6.4.0)\n",
            "Requirement already satisfied: tqdm<5.0.0,>=4.38.0 in /usr/local/lib/python3.10/dist-packages (from spacy<3.8.0,>=3.7.0->pl-core-news-sm==3.7.0) (4.66.1)\n",
            "Requirement already satisfied: requests<3.0.0,>=2.13.0 in /usr/local/lib/python3.10/dist-packages (from spacy<3.8.0,>=3.7.0->pl-core-news-sm==3.7.0) (2.31.0)\n",
            "Requirement already satisfied: pydantic!=1.8,!=1.8.1,<3.0.0,>=1.7.4 in /usr/local/lib/python3.10/dist-packages (from spacy<3.8.0,>=3.7.0->pl-core-news-sm==3.7.0) (2.6.1)\n",
            "Requirement already satisfied: jinja2 in /usr/local/lib/python3.10/dist-packages (from spacy<3.8.0,>=3.7.0->pl-core-news-sm==3.7.0) (3.1.3)\n",
            "Requirement already satisfied: setuptools in /usr/local/lib/python3.10/dist-packages (from spacy<3.8.0,>=3.7.0->pl-core-news-sm==3.7.0) (67.7.2)\n",
            "Requirement already satisfied: packaging>=20.0 in /usr/local/lib/python3.10/dist-packages (from spacy<3.8.0,>=3.7.0->pl-core-news-sm==3.7.0) (23.2)\n",
            "Requirement already satisfied: langcodes<4.0.0,>=3.2.0 in /usr/local/lib/python3.10/dist-packages (from spacy<3.8.0,>=3.7.0->pl-core-news-sm==3.7.0) (3.3.0)\n",
            "Requirement already satisfied: numpy>=1.19.0 in /usr/local/lib/python3.10/dist-packages (from spacy<3.8.0,>=3.7.0->pl-core-news-sm==3.7.0) (1.25.2)\n",
            "Requirement already satisfied: annotated-types>=0.4.0 in /usr/local/lib/python3.10/dist-packages (from pydantic!=1.8,!=1.8.1,<3.0.0,>=1.7.4->spacy<3.8.0,>=3.7.0->pl-core-news-sm==3.7.0) (0.6.0)\n",
            "Requirement already satisfied: pydantic-core==2.16.2 in /usr/local/lib/python3.10/dist-packages (from pydantic!=1.8,!=1.8.1,<3.0.0,>=1.7.4->spacy<3.8.0,>=3.7.0->pl-core-news-sm==3.7.0) (2.16.2)\n",
            "Requirement already satisfied: typing-extensions>=4.6.1 in /usr/local/lib/python3.10/dist-packages (from pydantic!=1.8,!=1.8.1,<3.0.0,>=1.7.4->spacy<3.8.0,>=3.7.0->pl-core-news-sm==3.7.0) (4.9.0)\n",
            "Requirement already satisfied: charset-normalizer<4,>=2 in /usr/local/lib/python3.10/dist-packages (from requests<3.0.0,>=2.13.0->spacy<3.8.0,>=3.7.0->pl-core-news-sm==3.7.0) (3.3.2)\n",
            "Requirement already satisfied: idna<4,>=2.5 in /usr/local/lib/python3.10/dist-packages (from requests<3.0.0,>=2.13.0->spacy<3.8.0,>=3.7.0->pl-core-news-sm==3.7.0) (3.6)\n",
            "Requirement already satisfied: urllib3<3,>=1.21.1 in /usr/local/lib/python3.10/dist-packages (from requests<3.0.0,>=2.13.0->spacy<3.8.0,>=3.7.0->pl-core-news-sm==3.7.0) (2.0.7)\n",
            "Requirement already satisfied: certifi>=2017.4.17 in /usr/local/lib/python3.10/dist-packages (from requests<3.0.0,>=2.13.0->spacy<3.8.0,>=3.7.0->pl-core-news-sm==3.7.0) (2024.2.2)\n",
            "Requirement already satisfied: blis<0.8.0,>=0.7.8 in /usr/local/lib/python3.10/dist-packages (from thinc<8.3.0,>=8.1.8->spacy<3.8.0,>=3.7.0->pl-core-news-sm==3.7.0) (0.7.11)\n",
            "Requirement already satisfied: confection<1.0.0,>=0.0.1 in /usr/local/lib/python3.10/dist-packages (from thinc<8.3.0,>=8.1.8->spacy<3.8.0,>=3.7.0->pl-core-news-sm==3.7.0) (0.1.4)\n",
            "Requirement already satisfied: click<9.0.0,>=7.1.1 in /usr/local/lib/python3.10/dist-packages (from typer<0.10.0,>=0.3.0->spacy<3.8.0,>=3.7.0->pl-core-news-sm==3.7.0) (8.1.7)\n",
            "Requirement already satisfied: cloudpathlib<0.17.0,>=0.7.0 in /usr/local/lib/python3.10/dist-packages (from weasel<0.4.0,>=0.1.0->spacy<3.8.0,>=3.7.0->pl-core-news-sm==3.7.0) (0.16.0)\n",
            "Requirement already satisfied: MarkupSafe>=2.0 in /usr/local/lib/python3.10/dist-packages (from jinja2->spacy<3.8.0,>=3.7.0->pl-core-news-sm==3.7.0) (2.1.5)\n",
            "\u001b[38;5;2m✔ Download and installation successful\u001b[0m\n",
            "You can now load the package via spacy.load('pl_core_news_sm')\n"
          ]
        }
      ],
      "execution_count": null
    },
    {
      "cell_type": "code",
      "source": [
        "# Zadanie 3.1\n",
        "def detect_pers_names(text):\n",
        "    doc = nlp(text)\n",
        "    pers_names = []\n",
        "    for ent in doc.ents:\n",
        "        if ent.label_ == \"persName\":\n",
        "            pers_names.append(ent.text)\n",
        "    return pers_names\n",
        "\n",
        "df['persons'] = df['text'].apply(detect_pers_names)\n",
        "print(df[df['persons'].apply(len) > 0]['persons'])"
      ],
      "metadata": {
        "colab": {
          "base_uri": "https://localhost:8080/"
        },
        "id": "1g6kaiMAwCnD",
        "outputId": "3b375462-fe63-4dee-888d-9c774e418b7a"
      },
      "execution_count": null,
      "outputs": [
        {
          "output_type": "stream",
          "name": "stdout",
          "text": [
            "5                                                [hahaha]\n",
            "13                                         [@Jan34733995]\n",
            "17                [Waszczykowski, Kaczyński, @lkwarzecha]\n",
            "36                                  [@lkwarzecha Jaaasne]\n",
            "49      [Jan, Krzysztof Duda, Magnusa Carsena, Sergius...\n",
            "                              ...                        \n",
            "1366                                   [Krzesimir Dębski]\n",
            "1367                                   [Krzesimir Dębski]\n",
            "1368                                      [J., Kaczyński]\n",
            "1369                                   [Krzesimir Dębski]\n",
            "1393                                   [Krzesimir Dębski]\n",
            "Name: persons, Length: 570, dtype: object\n"
          ]
        }
      ]
    },
    {
      "cell_type": "code",
      "source": [
        "# Zadanie 3.2\n",
        "def detect_place_names(text):\n",
        "    doc = nlp(text)\n",
        "    place_names = []\n",
        "    for ent in doc.ents:\n",
        "        if ent.label_ == \"placeName\":\n",
        "            place_names.append(ent.text)\n",
        "    return place_names\n",
        "\n",
        "df['organizations'] = df['text'].apply(detect_place_names)\n",
        "print(df[df['organizations'].apply(len) > 0]['organizations'])"
      ],
      "metadata": {
        "colab": {
          "base_uri": "https://localhost:8080/"
        },
        "id": "M7rlcRx4wC00",
        "outputId": "ecae4a39-ee0f-4602-ecef-94d6389818d5"
      },
      "execution_count": null,
      "outputs": [
        {
          "output_type": "stream",
          "name": "stdout",
          "text": [
            "1                    [Bośnia, Ukraina, Egipt, Afganistan]\n",
            "2                                      [Ukrainy, Ukraina]\n",
            "3                    [Bośnia, Ukraina, Egipt, Afganistan]\n",
            "4                    [Bośnia, Ukraina, Egipt, Afganistan]\n",
            "6                    [Bośnia, Ukraina, Egipt, Afganistan]\n",
            "                              ...                        \n",
            "1388                                           [Ukrainie]\n",
            "1389    [Polaków, Ukraińców, Czechów, niemieckich, Żydów]\n",
            "1391    [Polaków, Ukraińców, Czechów, niemieckich, Żydów]\n",
            "1392                                       [Nord, Polski]\n",
            "1393                                           [Ukrainie]\n",
            "Name: organizations, Length: 1163, dtype: object\n"
          ]
        }
      ]
    },
    {
      "cell_type": "code",
      "source": [
        "# Zadanie 3.3\n",
        "def detect_org_names(text):\n",
        "    doc = nlp(text)\n",
        "    org_names = []\n",
        "    for ent in doc.ents:\n",
        "        if ent.label_ == \"orgName\":\n",
        "            org_names.append(ent.text)\n",
        "    return org_names\n",
        "\n",
        "df['places'] = df['text'].apply(detect_org_names)\n",
        "print(df[df['places'].apply(len) > 0]['places'])"
      ],
      "metadata": {
        "colab": {
          "base_uri": "https://localhost:8080/"
        },
        "id": "mnMgdPqIwDIS",
        "outputId": "0e32a2dd-a6b4-4252-ac82-ff1ed953e071"
      },
      "execution_count": null,
      "outputs": [
        {
          "output_type": "stream",
          "name": "stdout",
          "text": [
            "0       [@SilverMarketFan @ESPI_Operator @sylkarp, Ukr...\n",
            "1                                         [Syria &gt;0,1]\n",
            "2                                    [Waszyngton, Moskwa]\n",
            "3                                         [Syria &gt;0,1]\n",
            "4                                         [Syria &gt;0,1]\n",
            "                              ...                        \n",
            "1391                                            [Ukraina]\n",
            "1392                                            [Ukraina]\n",
            "1393      [Kresy, OUN, Ukraina, SSGalizien, cerkiew \\n\\n]\n",
            "1394               [Moskwa, Ukraina, europejskie, Moskwa]\n",
            "1395                                            [Ukraina]\n",
            "Name: places, Length: 940, dtype: object\n"
          ]
        }
      ]
    },
    {
      "cell_type": "code",
      "source": [
        "# Zadanie 4.1\n",
        "import matplotlib.pyplot as plt\n",
        "dni_tygodnia = list(wystapienia_slownik.keys())\n",
        "liczba_tweetow = list(wystapienia_slownik.values())\n",
        "\n",
        "plt.bar(dni_tygodnia, liczba_tweetow, color='skyblue')\n",
        "plt.title('Liczba tweetów per dzień tygodnia')\n",
        "plt.xlabel('Dzień tygodnia')\n",
        "plt.ylabel('Liczba tweetów')\n",
        "plt.xticks(rotation=45)\n",
        "plt.tight_layout()\n",
        "plt.show()"
      ],
      "metadata": {
        "trusted": true,
        "colab": {
          "base_uri": "https://localhost:8080/",
          "height": 487
        },
        "id": "dHXriLwzncJO",
        "outputId": "0cf2d71a-4e95-474b-a15a-3c9620786d0c"
      },
      "outputs": [
        {
          "output_type": "display_data",
          "data": {
            "text/plain": [
              "<Figure size 640x480 with 1 Axes>"
            ],
            "image/png": "[encoded data removed]"
          },
          "metadata": {}
        }
      ],
      "execution_count": null
    }
  ]
}